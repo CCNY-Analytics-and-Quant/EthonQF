{
 "cells": [
  {
   "cell_type": "code",
   "execution_count": 1,
   "id": "9d7ad85d-bb8a-450c-b87f-3efa23b5956e",
   "metadata": {},
   "outputs": [],
   "source": [
    "# Sources Utilized\n",
    "# https://www.youtube.com/watch?v=Usxer0D-WWM\n",
    "# https://towardsdatascience.com/efficient-frontier-in-python-detailed-tutorial-84a304f03e79\n",
    "# https://towardsdatascience.com/efficient-frontier-portfolio-optimisation-in-python-e7844051e7f\n",
    "\n",
    "# Imports Necessary\n",
    "import math\n",
    "import pandas as pd\n",
    "import numpy as np\n",
    "import matplotlib.pyplot as plt\n",
    "import seaborn as sns\n",
    "import datetime as dt\n",
    "import yfinance as yf\n",
    "\n",
    "#Matplot Lib Settings\n",
    "plt.style.use('fivethirtyeight')\n",
    "%matplotlib inline\n",
    "%config InlineBackend.figure_format = 'retina'\n"
   ]
  },
  {
   "cell_type": "code",
   "execution_count": 2,
   "id": "5f66b5ee-d712-452f-be0f-ca36886ef715",
   "metadata": {},
   "outputs": [
    {
     "name": "stdout",
     "output_type": "stream",
     "text": [
      "[*********************100%***********************]  7 of 7 completed\n"
     ]
    }
   ],
   "source": [
    "\n",
    "# Collecting Data from Assets and 2 Year Span\n",
    "\n",
    "assets = ['OXY','EQT','MPC','ENPH','HES','XOM','GOOG']\n",
    "end_date = dt.datetime.today()\n",
    "start_date = end_date - dt.timedelta(2 * 365)\n",
    "\n",
    "adj_close = yf.download(assets, start=start_date, end=end_date)['Adj Close']"
   ]
  },
  {
   "cell_type": "code",
   "execution_count": 3,
   "id": "e22a9462-8007-4ba2-9686-b3a7515a3297",
   "metadata": {},
   "outputs": [],
   "source": [
    "#Calculations for Returns, Mean Returns, Covariance, and Variance as well as inputs for the upcoming tables\n",
    "\n",
    "returns = adj_close.pct_change()\n",
    "mean_returns = returns.mean()\n",
    "cov_matrix = returns.cov()\n",
    "var_matrix = returns.var()\n",
    "num_portfolios = 25000\n",
    "risk_free_rate = 0.03"
   ]
  },
  {
   "cell_type": "code",
   "execution_count": 4,
   "id": "11fe3452-653c-4b5d-968f-774dadf3a48a",
   "metadata": {},
   "outputs": [
    {
     "data": {
      "text/plain": [
       "ENPH    0.003138\n",
       "EQT     0.002641\n",
       "GOOG    0.000490\n",
       "HES     0.003109\n",
       "MPC     0.002997\n",
       "OXY     0.004781\n",
       "XOM     0.002824\n",
       "dtype: float64"
      ]
     },
     "execution_count": 4,
     "metadata": {},
     "output_type": "execute_result"
    }
   ],
   "source": [
    "mean_returns"
   ]
  },
  {
   "cell_type": "code",
   "execution_count": 5,
   "id": "02dbf49a-cd35-4b62-94cc-e730779d8e87",
   "metadata": {},
   "outputs": [
    {
     "data": {
      "text/html": [
       "<div>\n",
       "<style scoped>\n",
       "    .dataframe tbody tr th:only-of-type {\n",
       "        vertical-align: middle;\n",
       "    }\n",
       "\n",
       "    .dataframe tbody tr th {\n",
       "        vertical-align: top;\n",
       "    }\n",
       "\n",
       "    .dataframe thead th {\n",
       "        text-align: right;\n",
       "    }\n",
       "</style>\n",
       "<table border=\"1\" class=\"dataframe\">\n",
       "  <thead>\n",
       "    <tr style=\"text-align: right;\">\n",
       "      <th></th>\n",
       "      <th>ENPH</th>\n",
       "      <th>EQT</th>\n",
       "      <th>GOOG</th>\n",
       "      <th>HES</th>\n",
       "      <th>MPC</th>\n",
       "      <th>OXY</th>\n",
       "      <th>XOM</th>\n",
       "    </tr>\n",
       "  </thead>\n",
       "  <tbody>\n",
       "    <tr>\n",
       "      <th>ENPH</th>\n",
       "      <td>0.001983</td>\n",
       "      <td>0.000240</td>\n",
       "      <td>0.000332</td>\n",
       "      <td>0.000148</td>\n",
       "      <td>0.000168</td>\n",
       "      <td>0.000265</td>\n",
       "      <td>0.000061</td>\n",
       "    </tr>\n",
       "    <tr>\n",
       "      <th>EQT</th>\n",
       "      <td>0.000240</td>\n",
       "      <td>0.001268</td>\n",
       "      <td>0.000101</td>\n",
       "      <td>0.000514</td>\n",
       "      <td>0.000357</td>\n",
       "      <td>0.000620</td>\n",
       "      <td>0.000346</td>\n",
       "    </tr>\n",
       "    <tr>\n",
       "      <th>GOOG</th>\n",
       "      <td>0.000332</td>\n",
       "      <td>0.000101</td>\n",
       "      <td>0.000375</td>\n",
       "      <td>0.000115</td>\n",
       "      <td>0.000128</td>\n",
       "      <td>0.000122</td>\n",
       "      <td>0.000080</td>\n",
       "    </tr>\n",
       "    <tr>\n",
       "      <th>HES</th>\n",
       "      <td>0.000148</td>\n",
       "      <td>0.000514</td>\n",
       "      <td>0.000115</td>\n",
       "      <td>0.000894</td>\n",
       "      <td>0.000567</td>\n",
       "      <td>0.000907</td>\n",
       "      <td>0.000543</td>\n",
       "    </tr>\n",
       "    <tr>\n",
       "      <th>MPC</th>\n",
       "      <td>0.000168</td>\n",
       "      <td>0.000357</td>\n",
       "      <td>0.000128</td>\n",
       "      <td>0.000567</td>\n",
       "      <td>0.000563</td>\n",
       "      <td>0.000664</td>\n",
       "      <td>0.000420</td>\n",
       "    </tr>\n",
       "    <tr>\n",
       "      <th>OXY</th>\n",
       "      <td>0.000265</td>\n",
       "      <td>0.000620</td>\n",
       "      <td>0.000122</td>\n",
       "      <td>0.000907</td>\n",
       "      <td>0.000664</td>\n",
       "      <td>0.001513</td>\n",
       "      <td>0.000661</td>\n",
       "    </tr>\n",
       "    <tr>\n",
       "      <th>XOM</th>\n",
       "      <td>0.000061</td>\n",
       "      <td>0.000346</td>\n",
       "      <td>0.000080</td>\n",
       "      <td>0.000543</td>\n",
       "      <td>0.000420</td>\n",
       "      <td>0.000661</td>\n",
       "      <td>0.000481</td>\n",
       "    </tr>\n",
       "  </tbody>\n",
       "</table>\n",
       "</div>"
      ],
      "text/plain": [
       "          ENPH       EQT      GOOG       HES       MPC       OXY       XOM\n",
       "ENPH  0.001983  0.000240  0.000332  0.000148  0.000168  0.000265  0.000061\n",
       "EQT   0.000240  0.001268  0.000101  0.000514  0.000357  0.000620  0.000346\n",
       "GOOG  0.000332  0.000101  0.000375  0.000115  0.000128  0.000122  0.000080\n",
       "HES   0.000148  0.000514  0.000115  0.000894  0.000567  0.000907  0.000543\n",
       "MPC   0.000168  0.000357  0.000128  0.000567  0.000563  0.000664  0.000420\n",
       "OXY   0.000265  0.000620  0.000122  0.000907  0.000664  0.001513  0.000661\n",
       "XOM   0.000061  0.000346  0.000080  0.000543  0.000420  0.000661  0.000481"
      ]
     },
     "execution_count": 5,
     "metadata": {},
     "output_type": "execute_result"
    }
   ],
   "source": [
    "cov_matrix"
   ]
  },
  {
   "cell_type": "code",
   "execution_count": 6,
   "id": "15fffe54-c005-4b94-aecb-a522b90c3d92",
   "metadata": {},
   "outputs": [
    {
     "data": {
      "text/plain": [
       "ENPH    0.001983\n",
       "EQT     0.001268\n",
       "GOOG    0.000375\n",
       "HES     0.000894\n",
       "MPC     0.000563\n",
       "OXY     0.001513\n",
       "XOM     0.000481\n",
       "dtype: float64"
      ]
     },
     "execution_count": 6,
     "metadata": {},
     "output_type": "execute_result"
    }
   ],
   "source": [
    "var_matrix"
   ]
  },
  {
   "cell_type": "code",
   "execution_count": null,
   "id": "0c9c6ea5-90bc-4ea6-8986-dcb3fd6de029",
   "metadata": {},
   "outputs": [
    {
     "name": "stderr",
     "output_type": "stream",
     "text": [
      "/tmp/ipykernel_295670/1423877420.py:29: UserWarning: Pandas doesn't allow columns to be created via a new attribute name - see https://pandas.pydata.org/pandas-docs/stable/indexing.html#attribute-access\n",
      "  max_sharpe_allocation.allocation = [round(i*100,2)for i in max_sharpe_allocation.count()]\n",
      "/tmp/ipykernel_295670/1423877420.py:52: MatplotlibDeprecationWarning: Auto-removal of grids by pcolor() and pcolormesh() is deprecated since 3.5 and will be removed two minor releases later; please call grid(False) first.\n",
      "  plt.colorbar()\n"
     ]
    },
    {
     "name": "stdout",
     "output_type": "stream",
     "text": [
      "--------------------------------------------------------------------------------\n",
      "Maximum Sharpe Ratio Portfolio Allocation\n",
      "\n",
      "Annualized Return: 0.8\n",
      "Annualized Volatility: 0.35\n",
      "\n",
      "\n",
      "                 ENPH       EQT      GOOG       HES       MPC      OXY  \\\n",
      "allocations  0.187381  0.034724  0.017749  0.018784  0.179159  0.16344   \n",
      "\n",
      "                  XOM  \n",
      "allocations  0.398763  \n",
      "--------------------------------------------------------------------------------\n",
      "Minimum Volatility Portfolio Allocation\n",
      "\n",
      "Annualized Return: 0.49\n",
      "Annualized Volatility: 0.27\n",
      "\n",
      "\n",
      "               ENPH       EQT      GOOG       HES       MPC       OXY  \\\n",
      "allocation  0.08201  0.052512  0.446428  0.012959  0.144985  0.051333   \n",
      "\n",
      "                 XOM  \n",
      "allocation  0.209771  \n"
     ]
    }
   ],
   "source": [
    "# Generating the randomly weighted portfolio and measure the Sharpe Ratio of thousands of portfolios to find the best optimized one\n",
    "def random_portfolios(num_portfoliios, mean_returns, cov_matrix, risk_free_rate):\n",
    "    results = np.zeros((3, num_portfolios))\n",
    "    weights_record = []\n",
    "    num_assets= 7\n",
    "    for i in range(num_portfolios):\n",
    "        weights = np.random.random(num_assets)\n",
    "        weights /= np.sum(weights)\n",
    "        weights_record.append(weights)\n",
    "        portfolio_std_dev, portfolio_return = portfolio_annualised_performance(weights, mean_returns, cov_matrix)\n",
    "        results[0,i] = portfolio_std_dev\n",
    "        results[1,i] = portfolio_return\n",
    "        results[2,i] = (portfolio_return - risk_free_rate) / portfolio_std_dev\n",
    "    return results, weights_record\n",
    "\n",
    "\n",
    "\n",
    "def portfolio_annualised_performance(weights, mean_returns, cov_matrix):\n",
    "    returns = np.sum(mean_returns * (weights )) *252\n",
    "    std = np.sqrt(np.dot(weights.T, np.dot(cov_matrix, weights))) * np.sqrt(252)\n",
    "    return std, returns\n",
    "\n",
    "def display_simulated_ef_with_random(mean_returns, cov_matrix, num_portfolios, risk_free_rate):\n",
    "    results, weights = random_portfolios(num_portfolios,mean_returns, cov_matrix, risk_free_rate)\n",
    "    \n",
    "    max_sharpe_idx = np.argmax(results[2])\n",
    "    sdp, rp = results[0, max_sharpe_idx], results[1,max_sharpe_idx]\n",
    "    max_sharpe_allocation = pd.DataFrame(weights[max_sharpe_idx], index=adj_close.columns,columns=['allocations'])\n",
    "    max_sharpe_allocation.allocation = [round(i*100,2)for i in max_sharpe_allocation.count()]\n",
    "    max_sharpe_allocation = max_sharpe_allocation.T\n",
    "    \n",
    "    min_vol_idx = np.argmin(results[0])\n",
    "    sdp_min, rp_min = results[0,min_vol_idx], results[1,min_vol_idx]\n",
    "    min_vol_allocation = pd.DataFrame(weights[min_vol_idx],index=adj_close.columns,columns=['allocation'])\n",
    "    min_vol_allocation = min_vol_allocation.T\n",
    "    \n",
    "    print(\"-\"*80)\n",
    "    print(\"Maximum Sharpe Ratio Portfolio Allocation\\n\")\n",
    "    print(\"Annualized Return:\", round(rp,2))\n",
    "    print(\"Annualized Volatility:\", round(sdp,2))\n",
    "    print(\"\\n\")\n",
    "    print(max_sharpe_allocation)\n",
    "    print(\"-\"*80)\n",
    "    print(\"Minimum Volatility Portfolio Allocation\\n\")\n",
    "    print(\"Annualized Return:\",round(rp_min,2))\n",
    "    print(\"Annualized Volatility:\",round(sdp_min,2))\n",
    "    print(\"\\n\")\n",
    "    print(min_vol_allocation)\n",
    "    \n",
    "    plt.figure(figsize=(10, 7))\n",
    "    plt.scatter(results[0,:], results[1,:],c=results[2,:],cmap='Accent', marker='o', s=10, alpha=0.3)\n",
    "    plt.colorbar()\n",
    "    plt.scatter(sdp,rp,marker='*',color='r',s=500, label = 'Maximum Sharpe Ratio')\n",
    "    plt.scatter(sdp_min,rp_min,marker='*', color='g',s=500, label='Minimum Volatility')\n",
    "    plt.title('Simulated Portfolio Optimization based on Efficient Frontier')\n",
    "    plt.xlabel('Annualized Volatility')\n",
    "    plt.ylabel('Annualized Returns')\n",
    "    plt.legend(labelspacing=0.8)\n",
    "\n",
    "display_simulated_ef_with_random(mean_returns, cov_matrix, num_portfolios, risk_free_rate)"
   ]
  },
  {
   "cell_type": "code",
   "execution_count": null,
   "id": "8442dea2-a440-46b1-af21-3cc8cbb6743f",
   "metadata": {},
   "outputs": [],
   "source": []
  },
  {
   "cell_type": "markdown",
   "id": "c00123da-009a-4c8f-adb3-8e591953d479",
   "metadata": {},
   "source": []
  },
  {
   "cell_type": "code",
   "execution_count": null,
   "id": "1fb20484-ecde-45f4-b28b-0da5f5c9e7d3",
   "metadata": {},
   "outputs": [],
   "source": []
  },
  {
   "cell_type": "code",
   "execution_count": null,
   "id": "5aa11c10-149c-432c-a5fa-bbe15528dba6",
   "metadata": {},
   "outputs": [],
   "source": []
  },
  {
   "cell_type": "code",
   "execution_count": null,
   "id": "5c5a3041-6fcc-4367-bc19-05ec170e6c66",
   "metadata": {},
   "outputs": [],
   "source": []
  },
  {
   "cell_type": "code",
   "execution_count": null,
   "id": "16913ae9-4989-4b3d-bd1b-9b96e104a79d",
   "metadata": {},
   "outputs": [],
   "source": []
  },
  {
   "cell_type": "code",
   "execution_count": null,
   "id": "ae18012f-ae68-49c9-b809-4df728d2d355",
   "metadata": {},
   "outputs": [],
   "source": []
  },
  {
   "cell_type": "code",
   "execution_count": null,
   "id": "58ca9112-1f10-44d1-8f40-d5d5507382ee",
   "metadata": {},
   "outputs": [],
   "source": []
  }
 ],
 "metadata": {
  "kernelspec": {
   "display_name": "Python 3 (ipykernel)",
   "language": "python",
   "name": "python3"
  },
  "language_info": {
   "codemirror_mode": {
    "name": "ipython",
    "version": 3
   },
   "file_extension": ".py",
   "mimetype": "text/x-python",
   "name": "python",
   "nbconvert_exporter": "python",
   "pygments_lexer": "ipython3",
   "version": "3.9.7"
  }
 },
 "nbformat": 4,
 "nbformat_minor": 5
}
