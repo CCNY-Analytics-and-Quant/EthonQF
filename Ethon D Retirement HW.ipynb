{
 "cells": [
  {
   "cell_type": "markdown",
   "id": "7033848b-ed2c-4017-81ab-e8abb02dbbae",
   "metadata": {},
   "source": [
    "1) What age can I retire at?\n",
    "    List expenses:\n",
    "        - food\n",
    "        - utilities / bills\n",
    "        - housing\n",
    "        - transportation\n",
    "        - entertainment\n",
    "        - clothing\n",
    "        - travel\n",
    "        - medical\n",
    "2) How much will I have at retirement age?\n",
    "    - retirement age\n",
    "    - current age\n",
    "    - interest\n",
    "    - salary\n",
    "    - annual investment\n",
    "    \n",
    " Homework:\n",
    "    1) For Loop:\n",
    "        - convert all variables to dynamic inputs\n",
    "        - add 401k matching\n",
    "        - add salary + expected increases in salary\n",
    "        \n",
    "    2) While Loop:\n",
    "        - convert all variablees to dynamic inputs\n",
    "        - calculate expected retirement costs\n",
    "        - calculate from retirmeent costs, how much you need to retire"
   ]
  },
  {
   "cell_type": "code",
   "execution_count": 1,
   "id": "64738b12-97fc-4376-a5ea-35856ffd3c30",
   "metadata": {},
   "outputs": [
    {
     "name": "stdin",
     "output_type": "stream",
     "text": [
      "What is your current age?  20\n",
      "What is the current value of your retirement account?  10000\n"
     ]
    },
    {
     "name": "stdout",
     "output_type": "stream",
     "text": [
      "67 18757459.33067963\n"
     ]
    }
   ],
   "source": [
    "current_age = int(input(\"What is your current age? \"))\n",
    "retire_age = 67\n",
    "year_end_value = int(input(\"What is the current value of your retirement account? \"))\n",
    "return_rate = .10\n",
    "deposit = 20500\n",
    "\n",
    "for every_year in range(current_age, retire_age):\n",
    "    year_end_value = year_end_value * (1 + return_rate) + deposit\n",
    "print(every_year + 1, year_end_value)"
   ]
  },
  {
   "cell_type": "code",
   "execution_count": null,
   "id": "2558f3b1-2ad6-4749-9bcb-cec3a466f268",
   "metadata": {},
   "outputs": [],
   "source": []
  },
  {
   "cell_type": "code",
   "execution_count": null,
   "id": "79637816-8b03-4e08-b00b-0b4315353f60",
   "metadata": {},
   "outputs": [
    {
     "name": "stdin",
     "output_type": "stream",
     "text": [
      "What is your current age?  20\n",
      "What is the current value of your retirement account?  20\n",
      "What percentage of income is your employer matching? Type a decimal.  .20\n"
     ]
    }
   ],
   "source": [
    "# Added 401k Matching, A Salary and if There are any increases in the salary)\n",
    "current_age = int(input(\"What is your current age? \"))\n",
    "retire_age = 67\n",
    "year_end_value = int(input(\"What is the current value of your retirement account? \"))\n",
    "return_rate = .10\n",
    "deposit = 20500\n",
    "matching = float(input(\"What percentage of income is your employer matching? Type a decimal. \"))\n",
    "income = int(input(\"What is your income? \"))\n",
    "income_increase = float(input(\"Has your income increased by any percent? Type a decimal. If not then type zero. \"))\n",
    "\n",
    "for every_year in range(current_age, retire_age):\n",
    "    year_end_value = year_end_value * (1 + return_rate) + deposit + (((income_increase + 1) * income) * (retire_age - current_age)) + (matching * ((income * (income_increase + 1))))\n",
    "print(every_year + 1, year_end_value)\n"
   ]
  },
  {
   "cell_type": "code",
   "execution_count": null,
   "id": "2abf0361-88de-4d10-9796-da1a35fe397a",
   "metadata": {
    "tags": []
   },
   "outputs": [],
   "source": [
    "# Made variables Dynamic, # Calculated the expected expenses of living, Calculated how much the user wants to retire with\n",
    "current_age = int(input(\"What is your current age? \"))\n",
    "acct_balance = int(input(\"What is the current value of your retirement account? \"))\n",
    "required_value_for_retirement = int(input(\"How much do you want to retire with? \"))\n",
    "return_rate = float(input(\"What is the value of the return rate? \"))\n",
    "deposit = int(input(\"How much do you have currently saved? \"))\n",
    "expenses = int(input(\"How much is your cost of living and or expenses i.e rent & food ? \"))\n",
    "\n",
    "while acct_balance < required_value_for_retirement:\n",
    "    acct_balance = (acct_balance * (1 + return_rate) + deposit) - expenses\n",
    "    current_age += 1\n",
    "    print(current_age, acct_balance)\n"
   ]
  },
  {
   "cell_type": "markdown",
   "id": "76dc437b-0eff-4374-827b-8a10ca74cf87",
   "metadata": {},
   "source": []
  }
 ],
 "metadata": {
  "kernelspec": {
   "display_name": "Python 3 (ipykernel)",
   "language": "python",
   "name": "python3"
  },
  "language_info": {
   "codemirror_mode": {
    "name": "ipython",
    "version": 3
   },
   "file_extension": ".py",
   "mimetype": "text/x-python",
   "name": "python",
   "nbconvert_exporter": "python",
   "pygments_lexer": "ipython3",
   "version": "3.9.7"
  }
 },
 "nbformat": 4,
 "nbformat_minor": 5
}
